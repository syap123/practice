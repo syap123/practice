{
 "cells": [
  {
   "cell_type": "code",
   "execution_count": 43,
   "metadata": {
    "collapsed": true
   },
   "outputs": [],
   "source": [
    "# 4 class prep a tree\n",
    "# use tree and Node\n",
    "class Node:\n",
    "    def __init__(self,val):\n",
    "        self.lchild = None\n",
    "        self.rchild = None\n",
    "        self.val = val\n",
    "        \n",
    "class Tree:\n",
    "    def __init__(self):\n",
    "        self.root = None\n",
    "        \n",
    "    def add(self,newval):\n",
    "        if self.root is None:\n",
    "            self.root = Node(newval)\n",
    "        else:\n",
    "            self._add(newval,self.root)\n",
    "\n",
    "    def _add(self,newval,node):\n",
    "        if newval < node.val:\n",
    "            if node.lchild is not None:\n",
    "                self._add(newval,node.lchild)\n",
    "            else:\n",
    "                node.lchild = Node(newval)\n",
    "        else:\n",
    "            if node.rchild is not None:\n",
    "                self._add(newval,node.rchild)\n",
    "            else:\n",
    "                node.rchild = Node(newval)\n",
    "    \n",
    "    def find(self,val):\n",
    "        if self.root is None:\n",
    "            return None\n",
    "        else:\n",
    "            self._find(val,self.root)\n",
    "    \n",
    "    def _find(self,val,node):\n",
    "        if node.val is None:\n",
    "            return None\n",
    "        if val == node.val:\n",
    "            return node\n",
    "        elif val < node.val:\n",
    "            self._find(val,node.lchild)\n",
    "        else:\n",
    "            self._find(val,node.rchild)\n",
    "            \n",
    "    def printtree(self,order_type = 'in_order'):\n",
    "        if self.root is None:\n",
    "            return None\n",
    "        elif order_type == 'in_order':\n",
    "            self.print_inorder(self.root)\n",
    "        elif order_type == 'pre_order':\n",
    "            self.print_preorder(self.root)            \n",
    "        elif order_type == 'post_order':\n",
    "            self.print_postorder(self.root)            \n",
    "                        \n",
    "            \n",
    "    def print_inorder(self,node):\n",
    "        if node is not None:\n",
    "            self.print_inorder(node.lchild)\n",
    "            print(node.val)\n",
    "            self.print_inorder(node.rchild)  \n",
    "            \n",
    "    def print_preorder(self,node):\n",
    "        if node is not None:\n",
    "            print(node.val)\n",
    "            self.print_preorder(node.lchild)            \n",
    "            self.print_preorder(node.rchild)  \n",
    "            \n",
    "    def print_postorder(self,node):\n",
    "        if node is not None:\n",
    "            self.print_postorder(node.lchild)            \n",
    "            self.print_postorder(node.rchild)              \n",
    "            print(node.val)\n",
    "        \n",
    "        "
   ]
  },
  {
   "cell_type": "code",
   "execution_count": 2,
   "metadata": {
    "collapsed": true
   },
   "outputs": [],
   "source": [
    "# # using only Node\n",
    "        \n",
    "# class Node:\n",
    "#     def __init__(self,val):\n",
    "#         self.lchild = None\n",
    "#         self.rchild = None\n",
    "#         self.val = val\n",
    "        \n",
    "\n",
    "#     def add(self,newval):\n",
    "#         if newval < self.val:\n",
    "#             if self.lchild is not None:\n",
    "#                 self.lchild.add(newval)\n",
    "#             else:\n",
    "#                 self.lchild = Node(newval)\n",
    "#         else:\n",
    "#             if self.rchild is not None:\n",
    "#                 self.rchild.add(newval)\n",
    "#             else:\n",
    "#                 self.rchild = Node(newval)\n",
    "    \n",
    "#     def find(self,val):\n",
    "#         if self.root is None:\n",
    "#             return None\n",
    "#         else:\n",
    "#             self._find(val,self.root)\n",
    "    \n",
    "#     def _find(self,val,node):\n",
    "#         if node.val is None:\n",
    "#             return None\n",
    "#         if val == node.val:\n",
    "#             return node\n",
    "#         elif val < node.val:\n",
    "#             self._find(val,node.lchild)\n",
    "#         else:\n",
    "#             self._find(val,node.rchild)\n",
    "            \n",
    "#     def printtree(self,order_type = 'in_order'):\n",
    "#         if self.val is None:\n",
    "#             return None\n",
    "#         elif order_type == 'in_order':\n",
    "#             self.print_inorder(self)\n",
    "#         elif order_type == 'pre_order':\n",
    "#             self.print_preorder(self)            \n",
    "#         elif order_type == 'post_order':\n",
    "#             self.print_postorder(self)            \n",
    "                        \n",
    "            \n",
    "#     def print_inorder(self,node):\n",
    "#         if node is not None:\n",
    "#             self.print_inorder(node.lchild)\n",
    "#             print(node.val)\n",
    "#             self.print_inorder(node.rchild)  \n",
    "            \n",
    "#     def print_preorder(self,node):\n",
    "#         if node is not None:\n",
    "#             print(node.val)\n",
    "#             self.print_preorder(node.lchild)            \n",
    "#             self.print_preorder(node.rchild)  \n",
    "            \n",
    "#     def print_postorder(self,node):\n",
    "#         if node is not None:\n",
    "#             self.print_postorder(node.lchild)            \n",
    "#             self.print_postorder(node.rchild)              \n",
    "#             print(node.val)\n",
    "        \n",
    "        "
   ]
  },
  {
   "cell_type": "code",
   "execution_count": 3,
   "metadata": {
    "collapsed": true
   },
   "outputs": [],
   "source": [
    "bst = Tree()\n",
    "bst.add(9)\n",
    "bst.add(8)\n",
    "bst.add(2)\n",
    "bst.add(11)\n",
    "bst.add(150)"
   ]
  },
  {
   "cell_type": "code",
   "execution_count": 4,
   "metadata": {},
   "outputs": [
    {
     "name": "stdout",
     "output_type": "stream",
     "text": [
      "2\n",
      "8\n",
      "9\n",
      "11\n",
      "150\n"
     ]
    }
   ],
   "source": [
    "bst.printtree()"
   ]
  },
  {
   "cell_type": "code",
   "execution_count": 5,
   "metadata": {},
   "outputs": [
    {
     "name": "stdout",
     "output_type": "stream",
     "text": [
      "9\n",
      "8\n",
      "2\n",
      "11\n",
      "150\n"
     ]
    }
   ],
   "source": [
    "bst.printtree('pre_order')"
   ]
  },
  {
   "cell_type": "code",
   "execution_count": 6,
   "metadata": {},
   "outputs": [
    {
     "name": "stdout",
     "output_type": "stream",
     "text": [
      "2\n",
      "8\n",
      "150\n",
      "11\n",
      "9\n"
     ]
    }
   ],
   "source": [
    "bst.printtree('post_order')"
   ]
  },
  {
   "cell_type": "code",
   "execution_count": 7,
   "metadata": {
    "collapsed": true
   },
   "outputs": [],
   "source": [
    "# 4 class prep a graph\n",
    "from collections import deque\n",
    "\n",
    "class Graph:\n",
    "    def __init__(self):\n",
    "        self.node_list = []\n",
    "    \n",
    "    def add(self,newval,node):\n",
    "        new_node = Node(newval)\n",
    "        node.adj_list.append(new_node)\n",
    "        self.node_list.append(new_node)\n",
    "                \n",
    "class Node:\n",
    "    def __init__ (self,newval):\n",
    "        self.adj_list = []\n",
    "        self.value = newval\n",
    "        \n",
    "    def linker(self,newnode):\n",
    "        self.adj_list.append(newnode)\n",
    "    \n",
    "    def has_route(self,finderval):\n",
    "        q = deque()\n",
    "        marked = {self}\n",
    "        q.append(self)\n",
    "        while len(q) > 0:\n",
    "            r = q.popleft()\n",
    "            print('visiting: ' + str(r.value))\n",
    "            if r is finderval:\n",
    "                return True\n",
    "            for neighbor in r.adj_list:\n",
    "                if neighbor not in marked:\n",
    "                    marked.add(neighbor)\n",
    "                    q.append(neighbor)\n",
    "        return False\n",
    "        \n",
    "            \n",
    "    "
   ]
  },
  {
   "cell_type": "code",
   "execution_count": 8,
   "metadata": {
    "collapsed": true
   },
   "outputs": [],
   "source": [
    "g = Graph()\n",
    "a = Node('a')\n",
    "g.node_list.append(a)\n",
    "g.add('b',a)\n",
    "g.add('c',a)\n",
    "g.add('d',g.node_list[0])\n",
    "g.add('e',g.node_list[0])\n",
    "g.add('f',g.node_list[0])\n",
    "g.add('g',g.node_list[1])\n",
    "g.add('h',g.node_list[1])\n",
    "g.add('i',g.node_list[1])\n",
    "g.add('j',g.node_list[1])\n",
    "g.add('k',g.node_list[1])\n",
    "g.add('l',g.node_list[2])\n",
    "g.add('m',g.node_list[6])\n",
    "g.add('n',g.node_list[6])\n",
    "g.add('o',g.node_list[6])"
   ]
  },
  {
   "cell_type": "code",
   "execution_count": 9,
   "metadata": {},
   "outputs": [
    {
     "name": "stdout",
     "output_type": "stream",
     "text": [
      "visiting: a\n",
      "visiting: b\n",
      "visiting: c\n",
      "visiting: d\n",
      "visiting: e\n",
      "visiting: f\n",
      "visiting: g\n",
      "visiting: h\n",
      "visiting: i\n",
      "visiting: j\n",
      "visiting: k\n",
      "visiting: l\n",
      "visiting: m\n",
      "visiting: n\n",
      "visiting: o\n",
      "False\n"
     ]
    }
   ],
   "source": [
    "path = g.node_list[0].has_route('k')\n",
    "print(path)"
   ]
  },
  {
   "cell_type": "code",
   "execution_count": 10,
   "metadata": {},
   "outputs": [
    {
     "data": {
      "text/plain": [
       "'g'"
      ]
     },
     "execution_count": 10,
     "metadata": {},
     "output_type": "execute_result"
    }
   ],
   "source": [
    "g.node_list[6].value"
   ]
  },
  {
   "cell_type": "code",
   "execution_count": 14,
   "metadata": {},
   "outputs": [
    {
     "name": "stdout",
     "output_type": "stream",
     "text": [
      "visiting: a\n",
      "visiting: b\n",
      "visiting: c\n",
      "visiting: d\n",
      "visiting: e\n",
      "visiting: h\n",
      "visiting: g\n",
      "(<__main__.Node object at 0x7f71c4a2edd8>, <__main__.Node object at 0x7f71c4a2ef28>) False\n",
      "visiting: c\n",
      "visiting: d\n",
      "visiting: e\n",
      "visiting: f\n",
      "visiting: d\n",
      "visiting: g\n",
      "visiting: e\n",
      "visiting: h\n",
      "visiting: c\n",
      "(<__main__.Node object at 0x7f71c4a2ee10>, <__main__.Node object at 0x7f71c4a2eeb8>) True\n",
      "visiting: g\n",
      "visiting: h\n",
      "(<__main__.Node object at 0x7f71c4a2eef0>, <__main__.Node object at 0x7f71c4a2ef28>) True\n",
      "visiting: e\n",
      "visiting: c\n",
      "visiting: d\n",
      "visiting: a\n",
      "visiting: b\n",
      "visiting: c\n",
      "visiting: d\n",
      "visiting: e\n",
      "(<__main__.Node object at 0x7f71c4a2ee80>, <__main__.Node object at 0x7f71c4a2edd8>) True\n",
      "visiting: g\n",
      "visiting: h\n",
      "visiting: c\n",
      "visiting: d\n",
      "visiting: e\n",
      "(<__main__.Node object at 0x7f71c4a2eef0>, <__main__.Node object at 0x7f71c4a2ee10>) False\n"
     ]
    }
   ],
   "source": [
    "#4.1 check for route between 2 nodes\n",
    "def has_path_either_way(n1,n2):\n",
    "    if n1.has_route(n2) or n2.has_route(n1):\n",
    "        return True\n",
    "    return False\n",
    "\n",
    "a, b, c, d, e, f, g, h = [Node(newval=chr(i+97)) for i in range(8)]\n",
    "edges = [(a, b), (b, c), (c, d), (d, e), (e, c), (e, d), (f, d), (f, g), (g, h), (h, g)]\n",
    "for ed in edges:\n",
    "    ed[0].linker(ed[1])\n",
    "tests = [(a, h), (c, f), (g, h), (e, a), (g,c)]\n",
    "for test in tests:\n",
    "    print(test, has_path_either_way(*test))"
   ]
  },
  {
   "cell_type": "code",
   "execution_count": 138,
   "metadata": {
    "collapsed": true
   },
   "outputs": [],
   "source": [
    "# 4.2 minimal tree:\n",
    "# recursively take the middle item of the list as next node\n",
    "def minimal_bst_init_main(sorted_list):\n",
    "    t = Tree()\n",
    "    if len(sorted_list) ==0:\n",
    "        return t\n",
    "    def add_middle_object(in_list,t):\n",
    "        middle_index = (len(in_list)) // 2\n",
    "        print(middle_index)\n",
    "        t.add(in_list[middle_index])\n",
    "        print('adding ' + str(in_list[middle_index]))\n",
    "        left_sublist = in_list[:middle_index]\n",
    "        right_sublist = in_list[middle_index + 1:]\n",
    "        if len(left_sublist) > 0:\n",
    "            print(left_sublist)\n",
    "            add_middle_object(left_sublist,t)\n",
    "            \n",
    "        if len(right_sublist) > 0:\n",
    "            add_middle_object(right_sublist,t)\n",
    "    add_middle_object(sorted_list,t)\n",
    "    return t\n"
   ]
  },
  {
   "cell_type": "code",
   "execution_count": 171,
   "metadata": {
    "collapsed": true
   },
   "outputs": [],
   "source": [
    "# 4.2 minimal tree, use node version:\n",
    "# recursively take the middle item of the list as next node\n",
    "def minimal_bst_init_main_node(sorted_list):\n",
    "    n = Node(None)\n",
    "    if len(sorted_list) ==0:\n",
    "        return n\n",
    "    \n",
    "    def add_middle_object(in_list,start,end):\n",
    "        if end < start:\n",
    "            return None\n",
    "        mid = (start + end) // 2\n",
    "        n = Node(in_list[mid])\n",
    "        n.lchild = add_middle_object(in_list,start,mid-1)\n",
    "        n.rchild = add_middle_object(in_list,mid + 1,end)\n",
    "        return n\n",
    "    return add_middle_object(sorted_list,0,len(sorted_list)-1)\n"
   ]
  },
  {
   "cell_type": "code",
   "execution_count": 155,
   "metadata": {
    "scrolled": false
   },
   "outputs": [
    {
     "name": "stdout",
     "output_type": "stream",
     "text": [
      "6\n",
      "5\n",
      "adding 5\n",
      "[0, 1, 2, 3, 4]\n",
      "2\n",
      "adding 2\n",
      "[0, 1]\n",
      "1\n",
      "adding 1\n",
      "[0]\n",
      "0\n",
      "adding 0\n",
      "1\n",
      "adding 4\n",
      "[3]\n",
      "0\n",
      "adding 3\n",
      "2\n",
      "adding 7\n",
      "[5, 6]\n",
      "1\n",
      "adding 6\n",
      "[5]\n",
      "0\n",
      "adding 5\n",
      "1\n",
      "adding 9\n",
      "[8]\n",
      "0\n",
      "adding 8\n"
     ]
    }
   ],
   "source": [
    "lista = [0,1,2,3,4,5,5,6,7,8,9]\n",
    "middle_index = (len(lista) + 1) // 2\n",
    "print(middle_index)\n",
    "t = minimal_bst_init_main(lista)"
   ]
  },
  {
   "cell_type": "code",
   "execution_count": 156,
   "metadata": {},
   "outputs": [
    {
     "name": "stdout",
     "output_type": "stream",
     "text": [
      "0\n",
      "1\n",
      "2\n",
      "3\n",
      "4\n",
      "5\n",
      "5\n",
      "6\n",
      "7\n",
      "8\n",
      "9\n"
     ]
    }
   ],
   "source": [
    "t.printtree()"
   ]
  },
  {
   "cell_type": "code",
   "execution_count": 176,
   "metadata": {},
   "outputs": [],
   "source": [
    "lista = [0,1,2,3,3,3,4,5,6,7,8,9]\n",
    "middle_index = (len(lista) + 1) // 2\n",
    "n = minimal_bst_init_main_node(lista)"
   ]
  },
  {
   "cell_type": "code",
   "execution_count": 177,
   "metadata": {},
   "outputs": [
    {
     "data": {
      "text/plain": [
       "<__main__.Node at 0x7f71c40c7630>"
      ]
     },
     "execution_count": 177,
     "metadata": {},
     "output_type": "execute_result"
    }
   ],
   "source": [
    "n"
   ]
  },
  {
   "cell_type": "code",
   "execution_count": 178,
   "metadata": {},
   "outputs": [],
   "source": [
    "t = Tree()\n",
    "t.root = n\n"
   ]
  },
  {
   "cell_type": "code",
   "execution_count": 179,
   "metadata": {},
   "outputs": [
    {
     "name": "stdout",
     "output_type": "stream",
     "text": [
      "0\n",
      "1\n",
      "2\n",
      "3\n",
      "3\n",
      "3\n",
      "4\n",
      "5\n",
      "6\n",
      "7\n",
      "8\n",
      "9\n"
     ]
    }
   ],
   "source": [
    "t.printtree()"
   ]
  },
  {
   "cell_type": "code",
   "execution_count": 150,
   "metadata": {},
   "outputs": [
    {
     "ename": "AttributeError",
     "evalue": "'NoneType' object has no attribute 'val'",
     "output_type": "error",
     "traceback": [
      "\u001b[0;31m---------------------------------------------------------------------------\u001b[0m",
      "\u001b[0;31mAttributeError\u001b[0m                            Traceback (most recent call last)",
      "\u001b[0;32m<ipython-input-150-8f447b0b70d3>\u001b[0m in \u001b[0;36m<module>\u001b[0;34m()\u001b[0m\n\u001b[0;32m----> 1\u001b[0;31m \u001b[0mt\u001b[0m\u001b[0;34m.\u001b[0m\u001b[0mroot\u001b[0m\u001b[0;34m.\u001b[0m\u001b[0mval\u001b[0m\u001b[0;34m\u001b[0m\u001b[0m\n\u001b[0m",
      "\u001b[0;31mAttributeError\u001b[0m: 'NoneType' object has no attribute 'val'"
     ]
    }
   ],
   "source": [
    "t.root.val"
   ]
  },
  {
   "cell_type": "code",
   "execution_count": 38,
   "metadata": {},
   "outputs": [
    {
     "data": {
      "text/plain": [
       "0"
      ]
     },
     "execution_count": 38,
     "metadata": {},
     "output_type": "execute_result"
    }
   ],
   "source": [
    "1//2"
   ]
  },
  {
   "cell_type": "code",
   "execution_count": 68,
   "metadata": {},
   "outputs": [
    {
     "data": {
      "text/plain": [
       "['a', 'b', 'c', 'd', 'e']"
      ]
     },
     "execution_count": 68,
     "metadata": {},
     "output_type": "execute_result"
    }
   ],
   "source": [
    "a[0:]"
   ]
  },
  {
   "cell_type": "code",
   "execution_count": 69,
   "metadata": {},
   "outputs": [
    {
     "data": {
      "text/plain": [
       "['c', 'd', 'e']"
      ]
     },
     "execution_count": 69,
     "metadata": {},
     "output_type": "execute_result"
    }
   ],
   "source": [
    "a[2:]"
   ]
  },
  {
   "cell_type": "code",
   "execution_count": 70,
   "metadata": {},
   "outputs": [
    {
     "data": {
      "text/plain": [
       "['a', 'b']"
      ]
     },
     "execution_count": 70,
     "metadata": {},
     "output_type": "execute_result"
    }
   ],
   "source": [
    "a[:2]"
   ]
  },
  {
   "cell_type": "code",
   "execution_count": 71,
   "metadata": {},
   "outputs": [
    {
     "data": {
      "text/plain": [
       "'c'"
      ]
     },
     "execution_count": 71,
     "metadata": {},
     "output_type": "execute_result"
    }
   ],
   "source": [
    "a[2]"
   ]
  },
  {
   "cell_type": "code",
   "execution_count": null,
   "metadata": {
    "collapsed": true
   },
   "outputs": [],
   "source": []
  }
 ],
 "metadata": {
  "anaconda-cloud": {},
  "kernelspec": {
   "display_name": "Python [default]",
   "language": "python",
   "name": "python3"
  },
  "language_info": {
   "codemirror_mode": {
    "name": "ipython",
    "version": 3
   },
   "file_extension": ".py",
   "mimetype": "text/x-python",
   "name": "python",
   "nbconvert_exporter": "python",
   "pygments_lexer": "ipython3",
   "version": "3.5.2"
  }
 },
 "nbformat": 4,
 "nbformat_minor": 1
}
