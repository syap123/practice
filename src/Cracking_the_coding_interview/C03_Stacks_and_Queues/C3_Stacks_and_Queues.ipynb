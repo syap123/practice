{
 "cells": [
  {
   "cell_type": "code",
   "execution_count": 1,
   "metadata": {
    "collapsed": true
   },
   "outputs": [],
   "source": [
    "class Node:\n",
    "    def __init__(self, dataval = None):\n",
    "        self.dataval = dataval\n",
    "        self.nextval = None\n",
    "\n",
    "class stack:\n",
    "    def __init__(self):\n",
    "        self.headval = None\n",
    "    def listprint(self):\n",
    "        printval = self.headval\n",
    "        while printval is not None:\n",
    "            print(printval.dataval)\n",
    "            printval = printval.nextval\n",
    "    def AtBeginning(self,newval):\n",
    "        NewNode = Node(newval)\n",
    "        NewNode.nextval = self.headval\n",
    "        self.headval = NewNode\n",
    "    def AtEnd(self,newval):\n",
    "        NewNode = Node(newval)\n",
    "        # get to the end of list and replace nextval with newnode. But if linkedlist has no nodes then set this new node as head\n",
    "        if self.headval is None:\n",
    "            self.headval = NewNode\n",
    "        else:\n",
    "            current_node = self.headval\n",
    "            while current_node.nextval is not None:\n",
    "                current_node =  current_node.nextval\n",
    "            current_node.nextval = NewNode\n",
    "    def push(self,newval):\n",
    "        self.AtBeginning(newval)            \n",
    "            \n",
    "    def pop(self):\n",
    "        out_val = self.headval\n",
    "        self.headval = out_val.nextval\n",
    "        return out_val.dataval\n"
   ]
  },
  {
   "cell_type": "code",
   "execution_count": 2,
   "metadata": {
    "collapsed": true
   },
   "outputs": [],
   "source": [
    "a = stack()\n",
    "a.AtBeginning('first')\n",
    "a.AtBeginning('zero')\n",
    "a.AtBeginning('zero')\n",
    "a.AtBeginning(-1)\n",
    "a.AtEnd('last')\n",
    "a.AtEnd('last2')\n",
    "a.AtEnd('last2')"
   ]
  },
  {
   "cell_type": "code",
   "execution_count": 3,
   "metadata": {},
   "outputs": [
    {
     "name": "stdout",
     "output_type": "stream",
     "text": [
      "-1\n",
      "zero\n",
      "zero\n",
      "first\n",
      "last\n",
      "last2\n",
      "last2\n"
     ]
    }
   ],
   "source": [
    "a.listprint()"
   ]
  },
  {
   "cell_type": "code",
   "execution_count": 4,
   "metadata": {},
   "outputs": [
    {
     "data": {
      "text/plain": [
       "-1"
      ]
     },
     "execution_count": 4,
     "metadata": {},
     "output_type": "execute_result"
    }
   ],
   "source": [
    "a.pop()"
   ]
  },
  {
   "cell_type": "code",
   "execution_count": 5,
   "metadata": {},
   "outputs": [
    {
     "name": "stdout",
     "output_type": "stream",
     "text": [
      "zero\n",
      "zero\n",
      "first\n",
      "last\n",
      "last2\n",
      "last2\n"
     ]
    }
   ],
   "source": [
    "a.listprint()"
   ]
  },
  {
   "cell_type": "code",
   "execution_count": 6,
   "metadata": {},
   "outputs": [
    {
     "data": {
      "text/plain": [
       "'zero'"
      ]
     },
     "execution_count": 6,
     "metadata": {},
     "output_type": "execute_result"
    }
   ],
   "source": [
    "a.pop()"
   ]
  },
  {
   "cell_type": "code",
   "execution_count": 7,
   "metadata": {},
   "outputs": [
    {
     "name": "stdout",
     "output_type": "stream",
     "text": [
      "zero\n",
      "first\n",
      "last\n",
      "last2\n",
      "last2\n"
     ]
    }
   ],
   "source": [
    "a.listprint()"
   ]
  },
  {
   "cell_type": "code",
   "execution_count": 8,
   "metadata": {
    "collapsed": true
   },
   "outputs": [],
   "source": [
    "a.push('b')"
   ]
  },
  {
   "cell_type": "code",
   "execution_count": 9,
   "metadata": {},
   "outputs": [
    {
     "name": "stdout",
     "output_type": "stream",
     "text": [
      "b\n",
      "zero\n",
      "first\n",
      "last\n",
      "last2\n",
      "last2\n"
     ]
    }
   ],
   "source": [
    "a.listprint()"
   ]
  },
  {
   "cell_type": "code",
   "execution_count": null,
   "metadata": {
    "collapsed": true
   },
   "outputs": [],
   "source": []
  },
  {
   "cell_type": "code",
   "execution_count": null,
   "metadata": {
    "collapsed": true
   },
   "outputs": [],
   "source": []
  }
 ],
 "metadata": {
  "anaconda-cloud": {},
  "kernelspec": {
   "display_name": "Python [default]",
   "language": "python",
   "name": "python3"
  },
  "language_info": {
   "codemirror_mode": {
    "name": "ipython",
    "version": 3
   },
   "file_extension": ".py",
   "mimetype": "text/x-python",
   "name": "python",
   "nbconvert_exporter": "python",
   "pygments_lexer": "ipython3",
   "version": "3.5.2"
  }
 },
 "nbformat": 4,
 "nbformat_minor": 1
}
