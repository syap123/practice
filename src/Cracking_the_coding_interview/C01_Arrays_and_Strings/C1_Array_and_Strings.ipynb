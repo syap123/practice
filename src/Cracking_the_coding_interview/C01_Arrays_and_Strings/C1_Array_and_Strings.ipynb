{
 "cells": [
  {
   "cell_type": "code",
   "execution_count": 1,
   "metadata": {
    "collapsed": false,
    "scrolled": true
   },
   "outputs": [],
   "source": [
    "# 1.1 solution\n",
    "def isuniquechars(string):\n",
    "    dictionary = {}\n",
    "    if len(string) > 65536:\n",
    "        return False\n",
    "        # pigeonhole principal: if more characters in string than there are unique characters, then this must not be unique\n",
    "    for i in range(0,len(string)):\n",
    "        if string[i] in dictionary:\n",
    "            # in this case we found that it is not unique\n",
    "            return False\n",
    "        dictionary[string[i]] = True\n",
    "    # if it runs without finding a non unique string, conclude is unique\n",
    "    return True\n",
    "        \n",
    "            "
   ]
  },
  {
   "cell_type": "code",
   "execution_count": 2,
   "metadata": {
    "collapsed": false
   },
   "outputs": [
    {
     "name": "stdout",
     "output_type": "stream",
     "text": [
      "True\n",
      "False\n",
      "True\n",
      "False\n"
     ]
    }
   ],
   "source": [
    "# 1.1 test\n",
    "tests = ['', 'bob', 'bo', 'ƒœ∑´´œ¬']\n",
    "for test in tests:\n",
    "    print(isuniquechars(test))"
   ]
  },
  {
   "cell_type": "code",
   "execution_count": 3,
   "metadata": {
    "collapsed": true
   },
   "outputs": [],
   "source": [
    "# 1.2 solution\n",
    "def is_permutation(stringA, stringB):\n",
    "    # if lengths are different then they are not permutations of each other\n",
    "    if len(stringA) != len(stringB):\n",
    "        return False\n",
    "    if sorted(stringA) == sorted(stringB):\n",
    "        return True\n",
    "    return False\n",
    "    # nlogn + mlogm (n being length of A and m being length of B)\n",
    "    "
   ]
  },
  {
   "cell_type": "code",
   "execution_count": 4,
   "metadata": {
    "collapsed": false
   },
   "outputs": [
    {
     "name": "stdout",
     "output_type": "stream",
     "text": [
      "('bob', 'bbo') True\n",
      "('bob', '') False\n",
      "('face', 'pigg') False\n"
     ]
    }
   ],
   "source": [
    "# 1.2 test\n",
    "tests = [('bob', 'bbo'), ('bob', ''), ('face', 'pigg')]\n",
    "for test in tests:\n",
    "    print(test, is_permutation(*test))"
   ]
  },
  {
   "cell_type": "code",
   "execution_count": 5,
   "metadata": {
    "collapsed": true
   },
   "outputs": [],
   "source": [
    "# 1.2 alternate: a string is a permutation of another if the count of each character is similar\n",
    "def string_histogram(string):\n",
    "    character_counter = {}\n",
    "    for s in string:\n",
    "        if s in character_counter:\n",
    "            character_counter[s] = character_counter[s] + 1\n",
    "        else:\n",
    "            character_counter[s] = 1    \n",
    "    return character_counter\n",
    "    \n",
    "def is_permutation(stringA, stringB):\n",
    "    return string_histogram(stringA) == string_histogram(stringB)\n",
    "        "
   ]
  },
  {
   "cell_type": "code",
   "execution_count": 6,
   "metadata": {
    "collapsed": false
   },
   "outputs": [
    {
     "name": "stdout",
     "output_type": "stream",
     "text": [
      "('bob', 'bbo') True\n",
      "('bob', '') False\n",
      "('face', 'pigg') False\n",
      "('abc', 'abcd') False\n",
      "('ppalo', 'plaop') True\n"
     ]
    }
   ],
   "source": [
    "# 1.2 test\n",
    "tests = [('bob', 'bbo'), ('bob', ''), ('face', 'pigg'),('abc','abcd'),('ppalo','plaop')]\n",
    "for test in tests:\n",
    "    print(test, is_permutation(*test))"
   ]
  },
  {
   "cell_type": "code",
   "execution_count": 7,
   "metadata": {
    "collapsed": false
   },
   "outputs": [
    {
     "data": {
      "text/plain": [
       "'Mr%20John%20Smith'"
      ]
     },
     "execution_count": 7,
     "metadata": {},
     "output_type": "execute_result"
    }
   ],
   "source": [
    "# 1.3 solution\n",
    "# todo: replace space with %20\n",
    "def replacer(input_string):\n",
    "    list_char = list(input_string)\n",
    "    for i in range(0,len(list_char)):\n",
    "        if list_char[i] == ' ':\n",
    "            list_char[i] = '%20'\n",
    "    return ''.join(list_char)\n",
    "replacer(\"Mr John Smith\")\n",
    "            "
   ]
  },
  {
   "cell_type": "code",
   "execution_count": 8,
   "metadata": {
    "collapsed": true
   },
   "outputs": [],
   "source": [
    "# 1.4 Palindrome Permutation solution:\n",
    "# if a string has even length, then the count of each character must be divisible by 2\n",
    "# if a string is odd, then the count of each character must be even, except 1 can be odd\n",
    "def string_histogram(string):\n",
    "    \n",
    "    character_counter = {}\n",
    "    for s in string:\n",
    "        if s in character_counter:\n",
    "            character_counter[s] = character_counter[s] + 1\n",
    "        else:\n",
    "            character_counter[s] = 1    \n",
    "    return character_counter\n",
    "\n",
    "\n",
    "def palindrome_permutation(sentence):\n",
    "    # first remove whitespace\n",
    "    sentence = sentence.replace(' ','').lower()\n",
    "    char_count = string_histogram(sentence)\n",
    "    # now count how many are odd values\n",
    "    odd_character_counts = 0\n",
    "    for character in char_count:\n",
    "        if char_count[character] % 2 != 0:\n",
    "            odd_character_counts = odd_character_counts + 1\n",
    "            if odd_character_counts > 1:\n",
    "                return False\n",
    "    return True"
   ]
  },
  {
   "cell_type": "code",
   "execution_count": 9,
   "metadata": {
    "collapsed": false
   },
   "outputs": [
    {
     "name": "stdout",
     "output_type": "stream",
     "text": [
      " True\n",
      "bob True\n",
      "Tact Coa True\n",
      "bobbbobb True\n",
      "rraammm True\n",
      "onomatopeia False\n"
     ]
    }
   ],
   "source": [
    "tests = ['', 'bob', 'Tact Coa', 'bobbbobb', 'rraammm', 'onomatopeia']\n",
    "for test in tests:\n",
    "    print(test, palindrome_permutation(test))"
   ]
  },
  {
   "cell_type": "code",
   "execution_count": 10,
   "metadata": {
    "collapsed": true
   },
   "outputs": [],
   "source": [
    "# 1.5 One Away:\n",
    "def is_one_away(string_a, string_b):\n",
    "    # if string length changes by more than 1 then will not be one away\n",
    "    len_a = len(string_a)\n",
    "    len_b = len(string_b)\n",
    "    length_diff = len_a - len_b\n",
    "    if abs(length_diff) > 2:\n",
    "        return False\n",
    "    \n",
    "\n",
    "    # first find out which string is longer\n",
    "    if length_diff > 0:\n",
    "        longer_string = string_a\n",
    "        shorter_string = string_b\n",
    "    # if strings are the same length it doens't matter which is classed as longer\n",
    "    else:\n",
    "        longer_string = string_b\n",
    "        shorter_string = string_a\n",
    "        \n",
    "    skip_counter = 0\n",
    "    short_counter = 0\n",
    "    for long_counter in range(0,len(shorter_string)):\n",
    "        if longer_string[long_counter] == shorter_string[short_counter]:\n",
    "            short_counter = short_counter + 1\n",
    "        else:\n",
    "            # if there is a length difference and a mistmatch occurs, iterate the longer string but not the shorter\n",
    "            # i.e only iterate shorter string if their lenghts\n",
    "            if length_diff == 0:\n",
    "                short_counter = short_counter + 1\n",
    "            skip_counter = skip_counter + 1\n",
    "            if skip_counter > 1:\n",
    "                # early termination\n",
    "                return False    \n",
    "    return True\n"
   ]
  },
  {
   "cell_type": "code",
   "execution_count": 11,
   "metadata": {
    "collapsed": false
   },
   "outputs": [
    {
     "name": "stdout",
     "output_type": "stream",
     "text": [
      "('pale', 'ple') True\n",
      "('pales', 'pale') True\n",
      "('pale', 'bale') True\n",
      "('pale', 'bake') False\n",
      "('ppalo', 'plaop') False\n",
      "('abcdsda', 'sd') False\n"
     ]
    }
   ],
   "source": [
    "tests = [('pale', 'ple'), ('pales', 'pale'), ('pale', 'bale'),('pale','bake'),('ppalo','plaop'),('abcdsda','sd')]\n",
    "for test in tests:\n",
    "    print(test, is_one_away(*test))"
   ]
  },
  {
   "cell_type": "code",
   "execution_count": 12,
   "metadata": {
    "collapsed": true
   },
   "outputs": [],
   "source": [
    "# 1.6 string compression\n",
    "# the below solution does not fit the requirements of the question. Question explicitly said 'the string aabcccccaaa would become a2blc5a3'\n",
    "# even if the char appears once we need to set to a1\n",
    "# see Cyprian's correct solution here: https://github.com/kippig/Python_Practice/blob/master/src/Cracking_the_coding_interview/Chapter_1_Arrays_And_Strings/1.6.py\n",
    "\n",
    "def basic_string_compression(input_string):\n",
    "    newcharlist = []\n",
    "    anchor = 0\n",
    "    # anchor variable above will be the index of the character we will be comparing to\n",
    "    while anchor < len(input_string) - 1:\n",
    "        newcharlist.append(input_string[anchor])\n",
    "        comparer_index = anchor + 1\n",
    "        # if next character is the same, keep going\n",
    "        while comparer_index < len(input_string) and input_string[anchor] == input_string[comparer_index]:\n",
    "            comparer_index = comparer_index + 1\n",
    "        # compress only if next letter occurs more than twice (otherwise string will be the same length anyway)\n",
    "        samecharcount = comparer_index - anchor\n",
    "        if samecharcount == 2:\n",
    "            newcharlist.append(input_string[anchor])\n",
    "        elif samecharcount > 2:\n",
    "            newcharlist.append(str(samecharcount))\n",
    "        if comparer_index == len(input_string) -1:\n",
    "            newcharlist.append(input_string[comparer_index])\n",
    "        # once we found a different char, set the anchor to the next index.\n",
    "        anchor = comparer_index\n",
    "    return ''.join(newcharlist)\n",
    "\n"
   ]
  },
  {
   "cell_type": "code",
   "execution_count": 13,
   "metadata": {
    "collapsed": false
   },
   "outputs": [
    {
     "name": "stdout",
     "output_type": "stream",
     "text": [
      " \n",
      "bob bob\n",
      "aasdsssssiiiiiiiii aasds5i9\n",
      "abdcedf abdcedf\n",
      "aaabcdefghhijk a3bcdefghhijk\n",
      "aabbbcddddd,e aab3cd5,e\n"
     ]
    }
   ],
   "source": [
    "tests = ['', 'bob', 'aasdsssssiiiiiiiii', 'abdcedf', 'aaabcdefghhijk','aabbbcddddd,e']\n",
    "for test in tests:\n",
    "    print(test, basic_string_compression(test))\n",
    "                "
   ]
  },
  {
   "cell_type": "code",
   "execution_count": 15,
   "metadata": {
    "collapsed": true
   },
   "outputs": [],
   "source": [
    "# 1.7 transpose a N x N matrix\n",
    "# let's start without doing this inplace:\n",
    "def rotate(matrix):\n",
    "    N = len(matrix)\n",
    "    #newmatrix = matrix.copy()\n",
    "    newmatrix = [[None for i in range(N)] for i in range(N)]\n",
    "    for i in range(0,N):\n",
    "        for j in range(0,N):\n",
    "            newmatrix[i][j] = matrix[N-1-j][i]\n",
    "    return newmatrix\n",
    "    "
   ]
  },
  {
   "cell_type": "code",
   "execution_count": 16,
   "metadata": {
    "collapsed": false
   },
   "outputs": [
    {
     "data": {
      "text/plain": [
       "[[8, 5, 3, 1], [9, 6, 4, 2], [10, 7, 5, 3], [11, 8, 6, 4]]"
      ]
     },
     "execution_count": 16,
     "metadata": {},
     "output_type": "execute_result"
    }
   ],
   "source": [
    "rotate([[1,2,3,4],[3,4,5,6],[5,6,7,8],[8,9,10,11]])"
   ]
  },
  {
   "cell_type": "code",
   "execution_count": 17,
   "metadata": {
    "collapsed": false
   },
   "outputs": [
    {
     "data": {
      "text/plain": [
       "[['g', 'd', 'a'], ['h', 'e', 'b'], ['i', 'f', 'c']]"
      ]
     },
     "execution_count": 17,
     "metadata": {},
     "output_type": "execute_result"
    }
   ],
   "source": [
    "rotate([['a','b','c'],['d','e','f'],['g','h','i']])"
   ]
  },
  {
   "cell_type": "code",
   "execution_count": 18,
   "metadata": {
    "collapsed": false
   },
   "outputs": [],
   "source": [
    "# 1.7 transpose a N x N matrix\n",
    "# let's start without doing this inplace:\n",
    "def rotate_inplace(matrix):\n",
    "    N = len(matrix)\n",
    "    #newmatrix = matrix.copy()\n",
    "    newmatrix = [[None for i in range(N)] for i in range(N)]\n",
    "    for i in range(0,N):\n",
    "        for j in range(i,N-i-1):\n",
    "            matrix[i][j] , matrix[N-1-j][i], matrix[N-i-1][N-j-1], matrix[j][N-i-1] = matrix[N-1-j][i] , matrix[N-i-1][N-j-1], matrix[j][N-i-1], matrix[i][j]\n",
    "    return matrix\n",
    "    "
   ]
  },
  {
   "cell_type": "code",
   "execution_count": 19,
   "metadata": {
    "collapsed": false
   },
   "outputs": [
    {
     "name": "stdout",
     "output_type": "stream",
     "text": [
      "[21, 16, 11, 6, 1]\n",
      "[22, 17, 12, 7, 2]\n",
      "[23, 18, 13, 8, 3]\n",
      "[24, 19, 14, 9, 4]\n",
      "[25, 20, 15, 10, 5]\n"
     ]
    }
   ],
   "source": [
    "for row in rotate_inplace([[1, 2, 3, 4, 5],\n",
    "                           [6, 7, 8, 9, 10],\n",
    "                           [11, 12, 13, 14, 15],\n",
    "                           [16, 17, 18, 19, 20],\n",
    "                           [21, 22, 23, 24, 25]]):\n",
    "    print(row)"
   ]
  },
  {
   "cell_type": "code",
   "execution_count": 20,
   "metadata": {
    "collapsed": true
   },
   "outputs": [],
   "source": [
    "# 1.8 Zero matrix:\n",
    "import copy\n",
    "def zerorize(in_matrix):\n",
    "    out_matrix = copy.deepcopy(in_matrix)\n",
    "    N = len(in_matrix)\n",
    "    M = len(in_matrix[0])\n",
    "    for i in range(0,N):\n",
    "        for j in range(0,M):\n",
    "            if in_matrix[i][j] == 0:\n",
    "                for row_index in range(0,N):\n",
    "                    out_matrix[row_index][j] = 0\n",
    "                for column_index in range(0,M):\n",
    "                    out_matrix[i][column_index] = 0                    \n",
    "            print(out_matrix)\n",
    "    return(out_matrix)\n"
   ]
  },
  {
   "cell_type": "code",
   "execution_count": 21,
   "metadata": {
    "collapsed": false
   },
   "outputs": [],
   "source": [
    "matrix_b = [['g', 'd', 'a'], ['h', 0, 'b'], ['i', 'f', 'K']]"
   ]
  },
  {
   "cell_type": "code",
   "execution_count": 22,
   "metadata": {
    "collapsed": false
   },
   "outputs": [
    {
     "name": "stdout",
     "output_type": "stream",
     "text": [
      "[['g', 'd', 'a'], ['h', 0, 'b'], ['i', 'f', 'K']]\n",
      "[['g', 'd', 'a'], ['h', 0, 'b'], ['i', 'f', 'K']]\n",
      "[['g', 'd', 'a'], ['h', 0, 'b'], ['i', 'f', 'K']]\n",
      "[['g', 'd', 'a'], ['h', 0, 'b'], ['i', 'f', 'K']]\n",
      "[['g', 0, 'a'], [0, 0, 0], ['i', 0, 'K']]\n",
      "[['g', 0, 'a'], [0, 0, 0], ['i', 0, 'K']]\n",
      "[['g', 0, 'a'], [0, 0, 0], ['i', 0, 'K']]\n",
      "[['g', 0, 'a'], [0, 0, 0], ['i', 0, 'K']]\n",
      "[['g', 0, 'a'], [0, 0, 0], ['i', 0, 'K']]\n"
     ]
    },
    {
     "data": {
      "text/plain": [
       "[['g', 0, 'a'], [0, 0, 0], ['i', 0, 'K']]"
      ]
     },
     "execution_count": 22,
     "metadata": {},
     "output_type": "execute_result"
    }
   ],
   "source": [
    "zerorize(matrix_b)"
   ]
  },
  {
   "cell_type": "code",
   "execution_count": 23,
   "metadata": {
    "collapsed": false
   },
   "outputs": [
    {
     "data": {
      "text/plain": [
       "True"
      ]
     },
     "execution_count": 23,
     "metadata": {},
     "output_type": "execute_result"
    }
   ],
   "source": [
    "'ab' in 'abc'"
   ]
  },
  {
   "cell_type": "code",
   "execution_count": 24,
   "metadata": {
    "collapsed": false
   },
   "outputs": [],
   "source": [
    "#1.9 string rotation\n",
    "def is_rotation(s1,s2):\n",
    "    if len(s1) == len(s2):\n",
    "        if s1 in ''.join([s2,s2]):\n",
    "            return True\n",
    "    return False"
   ]
  },
  {
   "cell_type": "code",
   "execution_count": 25,
   "metadata": {
    "collapsed": false
   },
   "outputs": [
    {
     "data": {
      "text/plain": [
       "True"
      ]
     },
     "execution_count": 25,
     "metadata": {},
     "output_type": "execute_result"
    }
   ],
   "source": [
    "is_rotation('waterbottle','erbottlewat')"
   ]
  },
  {
   "cell_type": "code",
   "execution_count": 26,
   "metadata": {
    "collapsed": false
   },
   "outputs": [
    {
     "data": {
      "text/plain": [
       "False"
      ]
     },
     "execution_count": 26,
     "metadata": {},
     "output_type": "execute_result"
    }
   ],
   "source": [
    "is_rotation('isaaaa','isisna')"
   ]
  }
 ],
 "metadata": {
  "anaconda-cloud": {},
  "kernelspec": {
   "display_name": "Python [default]",
   "language": "python",
   "name": "python3"
  },
  "language_info": {
   "codemirror_mode": {
    "name": "ipython",
    "version": 3
   },
   "file_extension": ".py",
   "mimetype": "text/x-python",
   "name": "python",
   "nbconvert_exporter": "python",
   "pygments_lexer": "ipython3",
   "version": "3.5.2"
  }
 },
 "nbformat": 4,
 "nbformat_minor": 1
}
