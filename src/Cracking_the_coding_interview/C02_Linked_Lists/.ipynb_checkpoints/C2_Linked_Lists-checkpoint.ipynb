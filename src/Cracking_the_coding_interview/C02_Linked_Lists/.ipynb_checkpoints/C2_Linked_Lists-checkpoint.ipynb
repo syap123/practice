{
 "cells": [
  {
   "cell_type": "code",
   "execution_count": 1,
   "metadata": {
    "collapsed": true
   },
   "outputs": [],
   "source": [
    "class Node:\n",
    "    def __init__(self, dataval = None):\n",
    "        self.dataval = dataval\n",
    "        self.nextval = None\n",
    "\n",
    "class sLinkedList:\n",
    "    def __init__(self):\n",
    "        self.headval = None\n",
    "    def listprint(self):\n",
    "        printval = self.headval\n",
    "        while printval is not None:\n",
    "            print(printval.dataval)\n",
    "            printval = printval.nextval\n",
    "    def AtBeginning(self,newval):\n",
    "        NewNode = Node(newval)\n",
    "        NewNode.nextval = self.headval\n",
    "        self.headval = NewNode\n",
    "    def AtEnd(self,newval):\n",
    "        NewNode = Node(newval)\n",
    "        # get to the end of list and replace nextval with newnode. But if linkedlist has no nodes then set this new node as head\n",
    "        if self.headval is None:\n",
    "            self.headval = NewNode\n",
    "        else:\n",
    "            current_node = self.headval\n",
    "            while current_node.nextval is not None:\n",
    "                current_node =  current_node.nextval\n",
    "            current_node.nextval = NewNode\n",
    "        "
   ]
  },
  {
   "cell_type": "code",
   "execution_count": 183,
   "metadata": {
    "collapsed": true
   },
   "outputs": [],
   "source": [
    "a = sLinkedList()\n",
    "a.AtBeginning('first')\n",
    "a.AtBeginning('zero')\n",
    "a.AtBeginning('zero')\n",
    "a.AtBeginning(-1)\n",
    "a.AtEnd('last')\n",
    "a.AtEnd('last2')\n",
    "a.AtEnd('last2')"
   ]
  },
  {
   "cell_type": "code",
   "execution_count": 68,
   "metadata": {},
   "outputs": [
    {
     "name": "stdout",
     "output_type": "stream",
     "text": [
      "-1\n",
      "zero\n",
      "zero\n",
      "first\n",
      "last\n",
      "last2\n",
      "last2\n"
     ]
    }
   ],
   "source": [
    "a.listprint()"
   ]
  },
  {
   "cell_type": "code",
   "execution_count": 70,
   "metadata": {
    "collapsed": true
   },
   "outputs": [],
   "source": [
    "# 2.1 dedupes\n",
    "def dedupe(llist):\n",
    "    if llist is None or llist.headval.nextval is None:\n",
    "        return llist\n",
    "    else:\n",
    "        currentNode = llist.headval\n",
    "        val_dict = {}        \n",
    "        while currentNode.nextval is not None:\n",
    "            val_dict[currentNode.dataval] = True\n",
    "            #if next node's value already found in val_dict:\n",
    "            if currentNode.nextval.dataval in val_dict:\n",
    "                # skip the node\n",
    "                if currentNode.nextval.nextval is not None:\n",
    "                    currentNode.nextval = currentNode.nextval.nextval\n",
    "                else: \n",
    "                    currentNode.nextval = None\n",
    "                    return llist\n",
    "            currentNode = currentNode.nextval\n",
    "    return llist\n",
    "\n",
    "def dedupe2(llist):\n",
    "    if llist is None or llist.headval.nextval is None:\n",
    "        return llist\n",
    "    else:\n",
    "        currentNode = llist.headval  \n",
    "        while currentNode.nextval is not None:\n",
    "            comparerNode = currentNode.nextval\n",
    "            if currentNode.dataval == comparerNode.dataval:\n",
    "                print(currentNode.dataval)\n",
    "                # skip the node\n",
    "                if comparerNode.nextval is not None:\n",
    "                    currentNode.nextval = comparerNode.nextval\n",
    "                else: \n",
    "                    currentNode.nextval = None\n",
    "                    return llist\n",
    "            currentNode = currentNode.nextval\n",
    "    return llist\n",
    "    \n",
    "        \n",
    "    "
   ]
  },
  {
   "cell_type": "code",
   "execution_count": 71,
   "metadata": {},
   "outputs": [
    {
     "name": "stdout",
     "output_type": "stream",
     "text": [
      "-1\n",
      "zero\n",
      "first\n",
      "last\n",
      "-1\n",
      "zero\n",
      "first\n",
      "last\n",
      "last2\n"
     ]
    }
   ],
   "source": [
    "b = dedupe(a)\n",
    "b.listprint()"
   ]
  },
  {
   "cell_type": "code",
   "execution_count": 35,
   "metadata": {},
   "outputs": [
    {
     "name": "stdout",
     "output_type": "stream",
     "text": [
      "zero\n",
      "last2\n"
     ]
    }
   ],
   "source": [
    "b = dedupe2(a)\n",
    "#b.listprint()"
   ]
  },
  {
   "cell_type": "code",
   "execution_count": 36,
   "metadata": {},
   "outputs": [
    {
     "name": "stdout",
     "output_type": "stream",
     "text": [
      "-1\n",
      "zero\n",
      "first\n",
      "last\n",
      "last2\n"
     ]
    }
   ],
   "source": [
    "b.listprint()"
   ]
  },
  {
   "cell_type": "code",
   "execution_count": 202,
   "metadata": {
    "collapsed": true
   },
   "outputs": [],
   "source": [
    "# 2.2 Return Kth to Last:\n",
    "class Error(Exception):\n",
    "    \"\"\"Base class for exceptions in this module.\"\"\"\n",
    "    pass\n",
    "\n",
    "class InputError(Error):\n",
    "    \"\"\"Exception raised for errors in the input.\n",
    "\n",
    "    Attributes:\n",
    "        expression -- input expression in which the error occurred\n",
    "        message -- explanation of the error\n",
    "    \"\"\"\n",
    "\n",
    "    def __init__(self, expression, message):\n",
    "        self.expression = expression\n",
    "        self.message = message\n",
    "\n",
    "def kth_from_last(llist,k):\n",
    "    #k = k - 1\n",
    "    wanted_node = llist.headval\n",
    "    tail_finder = wanted_node.nextval\n",
    "    for i in range(0,k-1):\n",
    "        if tail_finder is None:\n",
    "            raise InputError('Linked list length is less than k. Hence Kth to last element is not defined.')\n",
    "        tail_finder = tail_finder.nextval\n",
    "        #print(tail_finder.dataval)\n",
    "    # now cycle through the linked list until tail_finder reaches tail, and increment wanted_node each time\n",
    "    while tail_finder is not None:\n",
    "        tail_finder = tail_finder.nextval\n",
    "        wanted_node = wanted_node.nextval\n",
    "    return wanted_node.dataval\n",
    "        \n",
    "    "
   ]
  },
  {
   "cell_type": "code",
   "execution_count": 195,
   "metadata": {},
   "outputs": [
    {
     "name": "stdout",
     "output_type": "stream",
     "text": [
      "-1\n",
      "zero\n",
      "zero\n",
      "first\n",
      "last\n",
      "last2\n",
      "last2\n"
     ]
    }
   ],
   "source": [
    "a.listprint()"
   ]
  },
  {
   "cell_type": "code",
   "execution_count": 198,
   "metadata": {},
   "outputs": [
    {
     "name": "stdout",
     "output_type": "stream",
     "text": [
      "zero\n",
      "first\n"
     ]
    },
    {
     "data": {
      "text/plain": [
       "'last'"
      ]
     },
     "execution_count": 198,
     "metadata": {},
     "output_type": "execute_result"
    }
   ],
   "source": [
    "kth_from_last(a,3)\n",
    "#k = 1\n",
    "#for i in range(0,k):\n",
    "#    print(i)"
   ]
  },
  {
   "cell_type": "code",
   "execution_count": 63,
   "metadata": {
    "collapsed": true
   },
   "outputs": [],
   "source": [
    "# 2.3 remove node\n",
    "def remove_node(in_node):\n",
    "    in_node.dataval = in_node.nextval.dataval\n",
    "    in_node.nextval = in_node.nextval.nextval"
   ]
  },
  {
   "cell_type": "code",
   "execution_count": 64,
   "metadata": {},
   "outputs": [
    {
     "name": "stdout",
     "output_type": "stream",
     "text": [
      "-1\n",
      "zero\n",
      "first\n",
      "last\n",
      "last2\n"
     ]
    }
   ],
   "source": [
    "a.listprint()"
   ]
  },
  {
   "cell_type": "code",
   "execution_count": 65,
   "metadata": {
    "collapsed": true
   },
   "outputs": [],
   "source": [
    "remove_node(a.headval.nextval)"
   ]
  },
  {
   "cell_type": "code",
   "execution_count": 66,
   "metadata": {},
   "outputs": [
    {
     "name": "stdout",
     "output_type": "stream",
     "text": [
      "-1\n",
      "first\n",
      "last\n",
      "last2\n"
     ]
    }
   ],
   "source": [
    "a.listprint()"
   ]
  },
  {
   "cell_type": "code",
   "execution_count": 90,
   "metadata": {
    "collapsed": true
   },
   "outputs": [],
   "source": [
    "# 2.4 partition. \n",
    "def partition(llist,x):\n",
    "    # if node value is smaller than x, set node as headval\n",
    "    finder_node = llist.headval\n",
    "    while finder_node.nextval is not None:\n",
    "        # don't worry about the first node since it already is headval even if it is smaller than x\n",
    "        if finder_node.nextval.dataval < x:\n",
    "            print(finder_node.nextval.dataval)\n",
    "            current_head = llist.headval\n",
    "            llist.headval = finder_node.nextval\n",
    "            finder_node.nextval = finder_node.nextval.nextval\n",
    "            llist.headval.nextval = current_head\n",
    "        else:\n",
    "            # only iterate if we did not swap. If we did swap we need to check again if the new next val is less than partition\n",
    "            finder_node = finder_node.nextval\n"
   ]
  },
  {
   "cell_type": "code",
   "execution_count": 94,
   "metadata": {},
   "outputs": [
    {
     "name": "stdout",
     "output_type": "stream",
     "text": [
      "3\n",
      "5\n",
      "8\n",
      "5\n",
      "2\n",
      "4\n",
      "10\n",
      "2\n",
      "1\n"
     ]
    }
   ],
   "source": [
    "a = sLinkedList()\n",
    "a.AtEnd(3)\n",
    "a.AtEnd(5)\n",
    "a.AtEnd(8)\n",
    "a.AtEnd(5)\n",
    "a.AtEnd(2)\n",
    "a.AtEnd(4)\n",
    "a.AtEnd(10)\n",
    "a.AtEnd(2)\n",
    "a.AtEnd(1)\n",
    "a.listprint()"
   ]
  },
  {
   "cell_type": "code",
   "execution_count": 95,
   "metadata": {},
   "outputs": [
    {
     "name": "stdout",
     "output_type": "stream",
     "text": [
      "2\n",
      "4\n",
      "2\n",
      "1\n"
     ]
    }
   ],
   "source": [
    "partition(a,5)"
   ]
  },
  {
   "cell_type": "code",
   "execution_count": 96,
   "metadata": {},
   "outputs": [
    {
     "name": "stdout",
     "output_type": "stream",
     "text": [
      "1\n",
      "2\n",
      "4\n",
      "2\n",
      "3\n",
      "5\n",
      "8\n",
      "5\n",
      "10\n"
     ]
    }
   ],
   "source": [
    "a.listprint()"
   ]
  },
  {
   "cell_type": "code",
   "execution_count": 121,
   "metadata": {
    "collapsed": true
   },
   "outputs": [],
   "source": [
    "# 2.5 sum\n",
    "def llist_to_numeric(llist,base = 10,direction='reverse'):\n",
    "    if llist.headval.dataval is None or isinstance(llist.headval.dataval, int) == False:\n",
    "        raise Error('input linkedlist nodes must have integers')\n",
    "    current_node = llist.headval\n",
    "    multiplier = 1\n",
    "    output_val = 0\n",
    "    while current_node is not None:\n",
    "        if direction == 'reverse':\n",
    "            output_val = output_val + multiplier * current_node.dataval\n",
    "            multiplier = multiplier * base\n",
    "        elif direction == 'forwards':\n",
    "            output_val = output_val * base + current_node.dataval\n",
    "        current_node = current_node.nextval\n",
    "    return output_val\n",
    "       \n",
    "\n",
    "def sum_llist(llist_a,llist_b,base=10,direction='reverse'):\n",
    "    return llist_to_numeric(llist_a,base,direction) + llist_to_numeric(llist_b,base,direction)"
   ]
  },
  {
   "cell_type": "code",
   "execution_count": 122,
   "metadata": {},
   "outputs": [
    {
     "data": {
      "text/plain": [
       "912"
      ]
     },
     "execution_count": 122,
     "metadata": {},
     "output_type": "execute_result"
    }
   ],
   "source": [
    "a = sLinkedList()\n",
    "a.AtEnd(7)\n",
    "a.AtEnd(1)\n",
    "a.AtEnd(6)\n",
    "\n",
    "b = sLinkedList()\n",
    "b.AtEnd(5)\n",
    "b.AtEnd(9)\n",
    "b.AtEnd(2)\n",
    "\n",
    "sum_llist(a,b)"
   ]
  },
  {
   "cell_type": "code",
   "execution_count": 123,
   "metadata": {},
   "outputs": [
    {
     "data": {
      "text/plain": [
       "1308"
      ]
     },
     "execution_count": 123,
     "metadata": {},
     "output_type": "execute_result"
    }
   ],
   "source": [
    "sum_llist(a,b,direction='forwards')"
   ]
  },
  {
   "cell_type": "code",
   "execution_count": 124,
   "metadata": {},
   "outputs": [
    {
     "data": {
      "text/plain": [
       "716"
      ]
     },
     "execution_count": 124,
     "metadata": {},
     "output_type": "execute_result"
    }
   ],
   "source": [
    "llist_to_numeric(a,direction='forwards')"
   ]
  },
  {
   "cell_type": "code",
   "execution_count": 218,
   "metadata": {
    "collapsed": true
   },
   "outputs": [],
   "source": [
    "# 2.6 check if linkedlist is a palindrome\n",
    "def is_palindrome(llist):\n",
    "    nth_in_list = 1\n",
    "    current_node = llist.headval\n",
    "    while current_node is not None:\n",
    "        if current_node.dataval != kth_from_last(llist,nth_in_list):\n",
    "            print(current_node.dataval)\n",
    "            print(\"is not equal to\")\n",
    "            print(kth_from_last(llist,nth_in_list))\n",
    "            return False\n",
    "        nth_in_list = nth_in_list + 1\n",
    "        current_node = current_node.nextval\n",
    "    return True\n",
    "\n",
    "def is_palindrome2(llist):\n",
    "\n",
    "    if llist is None or llist.headval is None:\n",
    "        raise Error('invalid linked list')\n",
    "        \n",
    "    new_llist = sLinkedList()    \n",
    "    current_node = llist.headval\n",
    "    len_counter = 0\n",
    "    while current_node is not None:\n",
    "        new_llist.AtBeginning(current_node.dataval)\n",
    "        len_counter = len_counter + 1\n",
    "        current_node = current_node.nextval\n",
    "    \n",
    "    list1_node = llist.headval\n",
    "    list2_node = new_llist.headval\n",
    "    for k in range(0,int(len_counter)//2 + 1):\n",
    "        if list1_node.dataval != list2_node.dataval:\n",
    "            return False\n",
    "        list1_node = list1_node.nextval\n",
    "        list2_node = list2_node.nextval\n",
    "    return True"
   ]
  },
  {
   "cell_type": "code",
   "execution_count": 225,
   "metadata": {
    "collapsed": true
   },
   "outputs": [],
   "source": [
    "a = sLinkedList()\n",
    "a.AtEnd('aa')\n",
    "a.AtEnd('ss')\n",
    "a.AtEnd('akata')\n",
    "a.AtEnd('ss')\n",
    "a.AtEnd('aa')\n",
    "#a.AtEnd('a')\n",
    "\n"
   ]
  },
  {
   "cell_type": "code",
   "execution_count": 226,
   "metadata": {},
   "outputs": [
    {
     "data": {
      "text/plain": [
       "True"
      ]
     },
     "execution_count": 226,
     "metadata": {},
     "output_type": "execute_result"
    }
   ],
   "source": [
    "is_palindrome2(a)"
   ]
  },
  {
   "cell_type": "code",
   "execution_count": 245,
   "metadata": {
    "collapsed": true
   },
   "outputs": [],
   "source": [
    "# 2.7 check for intersection.\n",
    "# the existence of an intersection is easy to prove: the last node must be the same in both linked lists\n",
    "# this is true regardless of the position of the intersection since each node only has 1 nextval value.\n",
    "\n",
    "# first get the length of 2 lists\n",
    "# start from the nth node of the longer list where n = difference between llinkedlist length\n",
    "def linked_list_metadata(llist):\n",
    "    current_node = llist.headval\n",
    "    length = 0\n",
    "    while current_node is not None:\n",
    "        length = length + 1\n",
    "        current_node = current_node.nextval\n",
    "    return {'length':length,'last_node':current_node}\n",
    "\n",
    "def intersection_finder(llist_a,llist_b):\n",
    "    a_result = linked_list_metadata(llist_a)\n",
    "    len_a = a_result['length']\n",
    "    b_result = linked_list_metadata(llist_b)\n",
    "    len_b = b_result['length']\n",
    "    \n",
    "    if a_result['last_node'] is not b_result['last_node']:\n",
    "        return {'has_intersection':False}\n",
    "    # now we are sure at least 1 node will be the same\n",
    "    difflength = abs(len_a - len_b)\n",
    "    if len_a >= len_b:\n",
    "        longer_llist = llist_a\n",
    "        shorter_llist = llist_b\n",
    "    else:\n",
    "        longer_llist = llist_b\n",
    "        shorter_llist = llist_a\n",
    "    current_node_long = longer_llist.headval\n",
    "    for i in range(0,difflength):\n",
    "        current_node_long = current_node_long.nextval\n",
    "    current_node_short = shorter_llist.headval\n",
    "    while current_node_short is not None: \n",
    "        if current_node_long is current_node_short:\n",
    "            return {'has_intersection':True,'intersection':current_node_short}\n",
    "        current_node_long = current_node_long.nextval\n",
    "        current_node_short = current_node_short.nextval        \n",
    "    return {'has_intersection':False}\n"
   ]
  },
  {
   "cell_type": "code",
   "execution_count": 246,
   "metadata": {},
   "outputs": [
    {
     "name": "stdout",
     "output_type": "stream",
     "text": [
      "3\n",
      "5\n",
      "8\n",
      "5\n",
      "2\n",
      "4\n",
      "10\n",
      "2\n",
      "1\n"
     ]
    }
   ],
   "source": [
    "a = sLinkedList()\n",
    "a.AtEnd(3)\n",
    "a.AtEnd(5)\n",
    "a.AtEnd(8)\n",
    "a.AtEnd(5)\n",
    "a.AtEnd(2)\n",
    "a.AtEnd(4)\n",
    "a.AtEnd(10)\n",
    "a.AtEnd(2)\n",
    "a.AtEnd(1)\n",
    "a.listprint()"
   ]
  },
  {
   "cell_type": "code",
   "execution_count": 247,
   "metadata": {},
   "outputs": [
    {
     "name": "stdout",
     "output_type": "stream",
     "text": [
      "a\n",
      "c\n",
      "g\n",
      "8\n",
      "5\n",
      "2\n",
      "4\n",
      "10\n",
      "2\n",
      "1\n"
     ]
    }
   ],
   "source": [
    "b = sLinkedList()\n",
    "b.AtEnd('a')\n",
    "b.AtEnd('c')\n",
    "b.AtEnd('g')\n",
    "\n",
    "b.headval.nextval.nextval.nextval = a.headval.nextval.nextval\n",
    "b.listprint()"
   ]
  },
  {
   "cell_type": "code",
   "execution_count": 248,
   "metadata": {},
   "outputs": [
    {
     "data": {
      "text/plain": [
       "8"
      ]
     },
     "execution_count": 248,
     "metadata": {},
     "output_type": "execute_result"
    }
   ],
   "source": [
    "intersection_finder(a,b)['intersection'].dataval"
   ]
  },
  {
   "cell_type": "code",
   "execution_count": 249,
   "metadata": {
    "collapsed": true
   },
   "outputs": [],
   "source": [
    "a = sLinkedList()\n",
    "a.AtEnd('aa')\n",
    "a.AtEnd('ss')\n",
    "a.AtEnd('akata')\n",
    "a.AtEnd('ss')\n",
    "a.AtEnd('aa')\n",
    "#a.AtEnd('a')"
   ]
  },
  {
   "cell_type": "code",
   "execution_count": 250,
   "metadata": {
    "collapsed": true
   },
   "outputs": [],
   "source": [
    "b = sLinkedList()\n",
    "b.AtEnd('aa')\n",
    "b.AtEnd('ss')\n",
    "b.AtEnd('akata')\n",
    "b.AtEnd('ss')\n",
    "b.AtEnd('aa')"
   ]
  },
  {
   "cell_type": "code",
   "execution_count": 251,
   "metadata": {},
   "outputs": [
    {
     "data": {
      "text/plain": [
       "{'has_intersection': False}"
      ]
     },
     "execution_count": 251,
     "metadata": {},
     "output_type": "execute_result"
    }
   ],
   "source": [
    "intersection_finder(a,b)"
   ]
  },
  {
   "cell_type": "code",
   "execution_count": 268,
   "metadata": {
    "collapsed": true
   },
   "outputs": [],
   "source": [
    "# 2.8 find looped list\n",
    "# how to define a loop?\n",
    "# when a node appears twice in the llist\n",
    "# the loop starts with this node that appears twice\n",
    "\n",
    "# will keep track of all the memory pointed to in the llist, and the first duplication that occurs is the start of the loop\n",
    "\n",
    "def loop_finder(llist):\n",
    "    current_node = llist.headval\n",
    "    memory_used = {}\n",
    "    while current_node is not None:\n",
    "        if id(current_node) in memory_used:\n",
    "            return current_node\n",
    "        memory_used[id(current_node)] = True\n",
    "        current_node = current_node.nextval\n",
    "    return False"
   ]
  },
  {
   "cell_type": "code",
   "execution_count": 264,
   "metadata": {},
   "outputs": [
    {
     "name": "stdout",
     "output_type": "stream",
     "text": [
      "3\n",
      "5\n",
      "8\n",
      "5\n",
      "2\n",
      "4\n",
      "10\n",
      "2\n",
      "1\n"
     ]
    }
   ],
   "source": [
    "a = sLinkedList()\n",
    "a.AtEnd(3)\n",
    "a.AtEnd(5)\n",
    "a.AtEnd(8)\n",
    "a.AtEnd(5)\n",
    "a.AtEnd(2)\n",
    "a.AtEnd(4)\n",
    "a.AtEnd(10)\n",
    "a.AtEnd(2)\n",
    "a.AtEnd(1)\n",
    "a.listprint()"
   ]
  },
  {
   "cell_type": "code",
   "execution_count": 266,
   "metadata": {
    "collapsed": true
   },
   "outputs": [],
   "source": [
    "a.headval.nextval.nextval.nextval.nextval.nextval.nextval.nextval.nextval.nextval = a.headval.nextval.nextval.nextval"
   ]
  },
  {
   "cell_type": "code",
   "execution_count": 270,
   "metadata": {},
   "outputs": [
    {
     "data": {
      "text/plain": [
       "5"
      ]
     },
     "execution_count": 270,
     "metadata": {},
     "output_type": "execute_result"
    }
   ],
   "source": [
    "loop_finder(a).dataval"
   ]
  },
  {
   "cell_type": "code",
   "execution_count": 271,
   "metadata": {},
   "outputs": [
    {
     "data": {
      "text/plain": [
       "5"
      ]
     },
     "execution_count": 271,
     "metadata": {},
     "output_type": "execute_result"
    }
   ],
   "source": [
    "a.headval.nextval.nextval.nextval.dataval"
   ]
  },
  {
   "cell_type": "code",
   "execution_count": null,
   "metadata": {
    "collapsed": true
   },
   "outputs": [],
   "source": []
  }
 ],
 "metadata": {
  "anaconda-cloud": {},
  "kernelspec": {
   "display_name": "Python [default]",
   "language": "python",
   "name": "python3"
  },
  "language_info": {
   "codemirror_mode": {
    "name": "ipython",
    "version": 3
   },
   "file_extension": ".py",
   "mimetype": "text/x-python",
   "name": "python",
   "nbconvert_exporter": "python",
   "pygments_lexer": "ipython3",
   "version": "3.5.2"
  }
 },
 "nbformat": 4,
 "nbformat_minor": 1
}
